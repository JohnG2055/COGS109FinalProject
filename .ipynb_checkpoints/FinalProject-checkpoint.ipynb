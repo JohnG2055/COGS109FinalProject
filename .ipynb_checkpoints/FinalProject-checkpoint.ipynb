{
 "cells": [
  {
   "cell_type": "markdown",
   "metadata": {},
   "source": [
    "# Final Project\n",
    "\n",
    "## Link to dataset\n",
    "Here is a <a href=\"https://www.kaggle.com/lepchenkov/usedcarscatalog\" target=\"_blank\">link</a> to the dataset on Kaggle."
   ]
  },
  {
   "cell_type": "markdown",
   "metadata": {},
   "source": [
    "## Possible Ideas\n",
    "- Predict automatic or mechanical (manual) (*Perceptron, Logistic regression, SVM, k-NN*)\n",
    "- Find similiarities in the vehicles (*k-Means*)\n",
    "- Predict the duration of the listing given the make and model of the car (*Linear regression*)\n",
    "- Reduce dimensionality of feature_1 through feature_9 columns to improve predictions (*PCA*)"
   ]
  },
  {
   "cell_type": "code",
   "execution_count": 82,
   "metadata": {},
   "outputs": [],
   "source": [
    "import numpy as np \n",
    "import pandas as pd \n",
    "import seaborn as sns\n",
    "import matplotlib.pyplot as plt\n",
    "from sklearn.preprocessing import OneHotEncoder, StandardScaler\n",
    "from sklearn.metrics import accuracy_score\n",
    "from sklearn.compose import make_column_transformer\n",
    "from sklearn.pipeline import make_pipeline, Pipeline\n",
    "from sklearn.model_selection import train_test_split, RandomizedSearchCV, StratifiedKFold\n",
    "from sklearn.linear_model import LinearRegression, LogisticRegression, Perceptron\n",
    "from sklearn.neighbors import KNeighborsClassifier\n",
    "from sklearn.ensemble import RandomForestClassifier\n",
    "from sklearn.neural_network import MLPClassifier"
   ]
  },
  {
   "cell_type": "code",
   "execution_count": 95,
   "metadata": {},
   "outputs": [
    {
     "data": {
      "text/html": [
       "<div>\n",
       "<style scoped>\n",
       "    .dataframe tbody tr th:only-of-type {\n",
       "        vertical-align: middle;\n",
       "    }\n",
       "\n",
       "    .dataframe tbody tr th {\n",
       "        vertical-align: top;\n",
       "    }\n",
       "\n",
       "    .dataframe thead th {\n",
       "        text-align: right;\n",
       "    }\n",
       "</style>\n",
       "<table border=\"1\" class=\"dataframe\">\n",
       "  <thead>\n",
       "    <tr style=\"text-align: right;\">\n",
       "      <th></th>\n",
       "      <th>manufacturer_name</th>\n",
       "      <th>model_name</th>\n",
       "      <th>transmission</th>\n",
       "      <th>color</th>\n",
       "      <th>odometer_value</th>\n",
       "      <th>year_produced</th>\n",
       "      <th>engine_fuel</th>\n",
       "      <th>engine_has_gas</th>\n",
       "      <th>engine_type</th>\n",
       "      <th>engine_capacity</th>\n",
       "      <th>...</th>\n",
       "      <th>feature_1</th>\n",
       "      <th>feature_2</th>\n",
       "      <th>feature_3</th>\n",
       "      <th>feature_4</th>\n",
       "      <th>feature_5</th>\n",
       "      <th>feature_6</th>\n",
       "      <th>feature_7</th>\n",
       "      <th>feature_8</th>\n",
       "      <th>feature_9</th>\n",
       "      <th>duration_listed</th>\n",
       "    </tr>\n",
       "  </thead>\n",
       "  <tbody>\n",
       "    <tr>\n",
       "      <th>0</th>\n",
       "      <td>Subaru</td>\n",
       "      <td>Outback</td>\n",
       "      <td>automatic</td>\n",
       "      <td>silver</td>\n",
       "      <td>190000</td>\n",
       "      <td>2010</td>\n",
       "      <td>gasoline</td>\n",
       "      <td>False</td>\n",
       "      <td>gasoline</td>\n",
       "      <td>2.5</td>\n",
       "      <td>...</td>\n",
       "      <td>True</td>\n",
       "      <td>True</td>\n",
       "      <td>True</td>\n",
       "      <td>False</td>\n",
       "      <td>True</td>\n",
       "      <td>False</td>\n",
       "      <td>True</td>\n",
       "      <td>True</td>\n",
       "      <td>True</td>\n",
       "      <td>16</td>\n",
       "    </tr>\n",
       "    <tr>\n",
       "      <th>1</th>\n",
       "      <td>Subaru</td>\n",
       "      <td>Outback</td>\n",
       "      <td>automatic</td>\n",
       "      <td>blue</td>\n",
       "      <td>290000</td>\n",
       "      <td>2002</td>\n",
       "      <td>gasoline</td>\n",
       "      <td>False</td>\n",
       "      <td>gasoline</td>\n",
       "      <td>3.0</td>\n",
       "      <td>...</td>\n",
       "      <td>True</td>\n",
       "      <td>False</td>\n",
       "      <td>False</td>\n",
       "      <td>True</td>\n",
       "      <td>True</td>\n",
       "      <td>False</td>\n",
       "      <td>False</td>\n",
       "      <td>False</td>\n",
       "      <td>True</td>\n",
       "      <td>83</td>\n",
       "    </tr>\n",
       "    <tr>\n",
       "      <th>2</th>\n",
       "      <td>Subaru</td>\n",
       "      <td>Forester</td>\n",
       "      <td>automatic</td>\n",
       "      <td>red</td>\n",
       "      <td>402000</td>\n",
       "      <td>2001</td>\n",
       "      <td>gasoline</td>\n",
       "      <td>False</td>\n",
       "      <td>gasoline</td>\n",
       "      <td>2.5</td>\n",
       "      <td>...</td>\n",
       "      <td>True</td>\n",
       "      <td>False</td>\n",
       "      <td>False</td>\n",
       "      <td>False</td>\n",
       "      <td>False</td>\n",
       "      <td>False</td>\n",
       "      <td>False</td>\n",
       "      <td>True</td>\n",
       "      <td>True</td>\n",
       "      <td>151</td>\n",
       "    </tr>\n",
       "    <tr>\n",
       "      <th>3</th>\n",
       "      <td>Subaru</td>\n",
       "      <td>Impreza</td>\n",
       "      <td>mechanical</td>\n",
       "      <td>blue</td>\n",
       "      <td>10000</td>\n",
       "      <td>1999</td>\n",
       "      <td>gasoline</td>\n",
       "      <td>False</td>\n",
       "      <td>gasoline</td>\n",
       "      <td>3.0</td>\n",
       "      <td>...</td>\n",
       "      <td>False</td>\n",
       "      <td>False</td>\n",
       "      <td>False</td>\n",
       "      <td>False</td>\n",
       "      <td>False</td>\n",
       "      <td>False</td>\n",
       "      <td>False</td>\n",
       "      <td>False</td>\n",
       "      <td>False</td>\n",
       "      <td>86</td>\n",
       "    </tr>\n",
       "    <tr>\n",
       "      <th>4</th>\n",
       "      <td>Subaru</td>\n",
       "      <td>Legacy</td>\n",
       "      <td>automatic</td>\n",
       "      <td>black</td>\n",
       "      <td>280000</td>\n",
       "      <td>2001</td>\n",
       "      <td>gasoline</td>\n",
       "      <td>False</td>\n",
       "      <td>gasoline</td>\n",
       "      <td>2.5</td>\n",
       "      <td>...</td>\n",
       "      <td>True</td>\n",
       "      <td>False</td>\n",
       "      <td>True</td>\n",
       "      <td>True</td>\n",
       "      <td>False</td>\n",
       "      <td>False</td>\n",
       "      <td>False</td>\n",
       "      <td>False</td>\n",
       "      <td>True</td>\n",
       "      <td>7</td>\n",
       "    </tr>\n",
       "  </tbody>\n",
       "</table>\n",
       "<p>5 rows × 30 columns</p>\n",
       "</div>"
      ],
      "text/plain": [
       "  manufacturer_name model_name transmission   color  odometer_value  \\\n",
       "0            Subaru    Outback    automatic  silver          190000   \n",
       "1            Subaru    Outback    automatic    blue          290000   \n",
       "2            Subaru   Forester    automatic     red          402000   \n",
       "3            Subaru    Impreza   mechanical    blue           10000   \n",
       "4            Subaru     Legacy    automatic   black          280000   \n",
       "\n",
       "   year_produced engine_fuel  engine_has_gas engine_type  engine_capacity  \\\n",
       "0           2010    gasoline           False    gasoline              2.5   \n",
       "1           2002    gasoline           False    gasoline              3.0   \n",
       "2           2001    gasoline           False    gasoline              2.5   \n",
       "3           1999    gasoline           False    gasoline              3.0   \n",
       "4           2001    gasoline           False    gasoline              2.5   \n",
       "\n",
       "   ... feature_1  feature_2 feature_3 feature_4  feature_5  feature_6  \\\n",
       "0  ...      True       True      True     False       True      False   \n",
       "1  ...      True      False     False      True       True      False   \n",
       "2  ...      True      False     False     False      False      False   \n",
       "3  ...     False      False     False     False      False      False   \n",
       "4  ...      True      False      True      True      False      False   \n",
       "\n",
       "  feature_7  feature_8  feature_9  duration_listed  \n",
       "0      True       True       True               16  \n",
       "1     False      False       True               83  \n",
       "2     False       True       True              151  \n",
       "3     False      False      False               86  \n",
       "4     False      False       True                7  \n",
       "\n",
       "[5 rows x 30 columns]"
      ]
     },
     "execution_count": 95,
     "metadata": {},
     "output_type": "execute_result"
    }
   ],
   "source": [
    "df = pd.read_csv('data/cars.csv')\n",
    "df.head()"
   ]
  },
  {
   "cell_type": "code",
   "execution_count": 96,
   "metadata": {},
   "outputs": [
    {
     "data": {
      "text/plain": [
       "Index(['manufacturer_name', 'model_name', 'transmission', 'color',\n",
       "       'odometer_value', 'year_produced', 'engine_fuel', 'engine_has_gas',\n",
       "       'engine_type', 'engine_capacity', 'body_type', 'has_warranty', 'state',\n",
       "       'drivetrain', 'price_usd', 'is_exchangeable', 'location_region',\n",
       "       'number_of_photos', 'up_counter', 'feature_0', 'feature_1', 'feature_2',\n",
       "       'feature_3', 'feature_4', 'feature_5', 'feature_6', 'feature_7',\n",
       "       'feature_8', 'feature_9', 'duration_listed'],\n",
       "      dtype='object')"
      ]
     },
     "execution_count": 96,
     "metadata": {},
     "output_type": "execute_result"
    }
   ],
   "source": [
    "df.columns"
   ]
  },
  {
   "cell_type": "markdown",
   "metadata": {},
   "source": [
    "## Drop Rows and Columns"
   ]
  },
  {
   "cell_type": "code",
   "execution_count": 97,
   "metadata": {},
   "outputs": [
    {
     "data": {
      "text/plain": [
       "10"
      ]
     },
     "execution_count": 97,
     "metadata": {},
     "output_type": "execute_result"
    }
   ],
   "source": [
    "electric_df = df[df['engine_type'] == 'electric']\n",
    "len(electric_df)"
   ]
  },
  {
   "cell_type": "markdown",
   "metadata": {},
   "source": [
    "Drop rows of electric vehicles because there are very few data samples of electric vehicles."
   ]
  },
  {
   "cell_type": "code",
   "execution_count": 98,
   "metadata": {},
   "outputs": [],
   "source": [
    "df.drop(electric_df.index, axis=0, inplace=True)"
   ]
  },
  {
   "cell_type": "markdown",
   "metadata": {},
   "source": [
    "Drop ```\"engine_fuel\"``` column because it is too similar to ```\"engine_type\"```, which is what we are trying to predict."
   ]
  },
  {
   "cell_type": "code",
   "execution_count": 99,
   "metadata": {},
   "outputs": [],
   "source": [
    "df.drop('engine_fuel', axis=1, inplace=True)"
   ]
  },
  {
   "cell_type": "markdown",
   "metadata": {},
   "source": [
    "## Find Columns with Missing Values"
   ]
  },
  {
   "cell_type": "code",
   "execution_count": 100,
   "metadata": {
    "scrolled": false
   },
   "outputs": [
    {
     "name": "stdout",
     "output_type": "stream",
     "text": [
      "Columns with missing values: []\n"
     ]
    }
   ],
   "source": [
    "cols = df.columns[df.isna().sum()>0]\n",
    "print(f'Columns with missing values: {cols.values}')"
   ]
  },
  {
   "cell_type": "markdown",
   "metadata": {},
   "source": [
    "No missing values"
   ]
  },
  {
   "cell_type": "markdown",
   "metadata": {},
   "source": [
    "# TODO \n",
    "Check columns that have very unequal data and decide to drop them."
   ]
  },
  {
   "cell_type": "code",
   "execution_count": 103,
   "metadata": {},
   "outputs": [
    {
     "data": {
      "text/plain": [
       "False    0.965032\n",
       "True     0.034968\n",
       "Name: engine_has_gas, dtype: float64"
      ]
     },
     "execution_count": 103,
     "metadata": {},
     "output_type": "execute_result"
    }
   ],
   "source": [
    "df.engine_has_gas.value_counts(normalize=True)"
   ]
  },
  {
   "cell_type": "code",
   "execution_count": null,
   "metadata": {},
   "outputs": [],
   "source": []
  },
  {
   "cell_type": "markdown",
   "metadata": {},
   "source": [
    "## Label Encode Columns with True/False Values"
   ]
  },
  {
   "cell_type": "markdown",
   "metadata": {},
   "source": [
    "Set boolean type columns to integers.\n",
    "\n",
    "$\\text{True}=1$\n",
    "\n",
    "$\\text{False}=0$"
   ]
  },
  {
   "cell_type": "code",
   "execution_count": 104,
   "metadata": {},
   "outputs": [],
   "source": [
    "true_false = ['engine_has_gas', 'has_warranty', 'is_exchangeable']\n",
    "\n",
    "df[true_false] = df[true_false].astype(int)"
   ]
  },
  {
   "cell_type": "markdown",
   "metadata": {},
   "source": [
    "Columns `feature_0` to `feature_9`"
   ]
  },
  {
   "cell_type": "code",
   "execution_count": 105,
   "metadata": {},
   "outputs": [],
   "source": [
    "features = []\n",
    "for i in range(10):\n",
    "    features.append(f'feature_{i}')\n",
    "    \n",
    "df[features] = df[features].astype(int)"
   ]
  },
  {
   "cell_type": "code",
   "execution_count": 107,
   "metadata": {
    "scrolled": true
   },
   "outputs": [
    {
     "data": {
      "text/html": [
       "<div>\n",
       "<style scoped>\n",
       "    .dataframe tbody tr th:only-of-type {\n",
       "        vertical-align: middle;\n",
       "    }\n",
       "\n",
       "    .dataframe tbody tr th {\n",
       "        vertical-align: top;\n",
       "    }\n",
       "\n",
       "    .dataframe thead th {\n",
       "        text-align: right;\n",
       "    }\n",
       "</style>\n",
       "<table border=\"1\" class=\"dataframe\">\n",
       "  <thead>\n",
       "    <tr style=\"text-align: right;\">\n",
       "      <th></th>\n",
       "      <th>manufacturer_name</th>\n",
       "      <th>model_name</th>\n",
       "      <th>transmission</th>\n",
       "      <th>color</th>\n",
       "      <th>odometer_value</th>\n",
       "      <th>year_produced</th>\n",
       "      <th>engine_has_gas</th>\n",
       "      <th>engine_type</th>\n",
       "      <th>engine_capacity</th>\n",
       "      <th>body_type</th>\n",
       "      <th>...</th>\n",
       "      <th>feature_1</th>\n",
       "      <th>feature_2</th>\n",
       "      <th>feature_3</th>\n",
       "      <th>feature_4</th>\n",
       "      <th>feature_5</th>\n",
       "      <th>feature_6</th>\n",
       "      <th>feature_7</th>\n",
       "      <th>feature_8</th>\n",
       "      <th>feature_9</th>\n",
       "      <th>duration_listed</th>\n",
       "    </tr>\n",
       "  </thead>\n",
       "  <tbody>\n",
       "    <tr>\n",
       "      <th>0</th>\n",
       "      <td>Subaru</td>\n",
       "      <td>Outback</td>\n",
       "      <td>automatic</td>\n",
       "      <td>silver</td>\n",
       "      <td>190000</td>\n",
       "      <td>2010</td>\n",
       "      <td>0</td>\n",
       "      <td>gasoline</td>\n",
       "      <td>2.5</td>\n",
       "      <td>universal</td>\n",
       "      <td>...</td>\n",
       "      <td>1</td>\n",
       "      <td>1</td>\n",
       "      <td>1</td>\n",
       "      <td>0</td>\n",
       "      <td>1</td>\n",
       "      <td>0</td>\n",
       "      <td>1</td>\n",
       "      <td>1</td>\n",
       "      <td>1</td>\n",
       "      <td>16</td>\n",
       "    </tr>\n",
       "    <tr>\n",
       "      <th>1</th>\n",
       "      <td>Subaru</td>\n",
       "      <td>Outback</td>\n",
       "      <td>automatic</td>\n",
       "      <td>blue</td>\n",
       "      <td>290000</td>\n",
       "      <td>2002</td>\n",
       "      <td>0</td>\n",
       "      <td>gasoline</td>\n",
       "      <td>3.0</td>\n",
       "      <td>universal</td>\n",
       "      <td>...</td>\n",
       "      <td>1</td>\n",
       "      <td>0</td>\n",
       "      <td>0</td>\n",
       "      <td>1</td>\n",
       "      <td>1</td>\n",
       "      <td>0</td>\n",
       "      <td>0</td>\n",
       "      <td>0</td>\n",
       "      <td>1</td>\n",
       "      <td>83</td>\n",
       "    </tr>\n",
       "    <tr>\n",
       "      <th>2</th>\n",
       "      <td>Subaru</td>\n",
       "      <td>Forester</td>\n",
       "      <td>automatic</td>\n",
       "      <td>red</td>\n",
       "      <td>402000</td>\n",
       "      <td>2001</td>\n",
       "      <td>0</td>\n",
       "      <td>gasoline</td>\n",
       "      <td>2.5</td>\n",
       "      <td>suv</td>\n",
       "      <td>...</td>\n",
       "      <td>1</td>\n",
       "      <td>0</td>\n",
       "      <td>0</td>\n",
       "      <td>0</td>\n",
       "      <td>0</td>\n",
       "      <td>0</td>\n",
       "      <td>0</td>\n",
       "      <td>1</td>\n",
       "      <td>1</td>\n",
       "      <td>151</td>\n",
       "    </tr>\n",
       "    <tr>\n",
       "      <th>3</th>\n",
       "      <td>Subaru</td>\n",
       "      <td>Impreza</td>\n",
       "      <td>mechanical</td>\n",
       "      <td>blue</td>\n",
       "      <td>10000</td>\n",
       "      <td>1999</td>\n",
       "      <td>0</td>\n",
       "      <td>gasoline</td>\n",
       "      <td>3.0</td>\n",
       "      <td>sedan</td>\n",
       "      <td>...</td>\n",
       "      <td>0</td>\n",
       "      <td>0</td>\n",
       "      <td>0</td>\n",
       "      <td>0</td>\n",
       "      <td>0</td>\n",
       "      <td>0</td>\n",
       "      <td>0</td>\n",
       "      <td>0</td>\n",
       "      <td>0</td>\n",
       "      <td>86</td>\n",
       "    </tr>\n",
       "    <tr>\n",
       "      <th>4</th>\n",
       "      <td>Subaru</td>\n",
       "      <td>Legacy</td>\n",
       "      <td>automatic</td>\n",
       "      <td>black</td>\n",
       "      <td>280000</td>\n",
       "      <td>2001</td>\n",
       "      <td>0</td>\n",
       "      <td>gasoline</td>\n",
       "      <td>2.5</td>\n",
       "      <td>universal</td>\n",
       "      <td>...</td>\n",
       "      <td>1</td>\n",
       "      <td>0</td>\n",
       "      <td>1</td>\n",
       "      <td>1</td>\n",
       "      <td>0</td>\n",
       "      <td>0</td>\n",
       "      <td>0</td>\n",
       "      <td>0</td>\n",
       "      <td>1</td>\n",
       "      <td>7</td>\n",
       "    </tr>\n",
       "  </tbody>\n",
       "</table>\n",
       "<p>5 rows × 29 columns</p>\n",
       "</div>"
      ],
      "text/plain": [
       "  manufacturer_name model_name transmission   color  odometer_value  \\\n",
       "0            Subaru    Outback    automatic  silver          190000   \n",
       "1            Subaru    Outback    automatic    blue          290000   \n",
       "2            Subaru   Forester    automatic     red          402000   \n",
       "3            Subaru    Impreza   mechanical    blue           10000   \n",
       "4            Subaru     Legacy    automatic   black          280000   \n",
       "\n",
       "   year_produced  engine_has_gas engine_type  engine_capacity  body_type  ...  \\\n",
       "0           2010               0    gasoline              2.5  universal  ...   \n",
       "1           2002               0    gasoline              3.0  universal  ...   \n",
       "2           2001               0    gasoline              2.5        suv  ...   \n",
       "3           1999               0    gasoline              3.0      sedan  ...   \n",
       "4           2001               0    gasoline              2.5  universal  ...   \n",
       "\n",
       "   feature_1 feature_2 feature_3  feature_4  feature_5 feature_6  feature_7  \\\n",
       "0          1         1         1          0          1         0          1   \n",
       "1          1         0         0          1          1         0          0   \n",
       "2          1         0         0          0          0         0          0   \n",
       "3          0         0         0          0          0         0          0   \n",
       "4          1         0         1          1          0         0          0   \n",
       "\n",
       "   feature_8  feature_9  duration_listed  \n",
       "0          1          1               16  \n",
       "1          0          1               83  \n",
       "2          1          1              151  \n",
       "3          0          0               86  \n",
       "4          0          1                7  \n",
       "\n",
       "[5 rows x 29 columns]"
      ]
     },
     "execution_count": 107,
     "metadata": {},
     "output_type": "execute_result"
    }
   ],
   "source": [
    "df.head()"
   ]
  },
  {
   "cell_type": "markdown",
   "metadata": {},
   "source": [
    "<br/>"
   ]
  },
  {
   "cell_type": "markdown",
   "metadata": {},
   "source": [
    "<br/>"
   ]
  },
  {
   "cell_type": "markdown",
   "metadata": {},
   "source": [
    "# Explore the Data"
   ]
  },
  {
   "cell_type": "markdown",
   "metadata": {},
   "source": [
    "# TODO\n",
    "\n",
    "Create plots to better understand the data we are working with."
   ]
  },
  {
   "cell_type": "markdown",
   "metadata": {},
   "source": [
    "$\\Downarrow\\text{ We don't need to keep these. This is just an idea }\\Downarrow$"
   ]
  },
  {
   "cell_type": "code",
   "execution_count": null,
   "metadata": {},
   "outputs": [],
   "source": [
    "# sns.displot(df['price_usd'])\n",
    "# plt.show()"
   ]
  },
  {
   "cell_type": "code",
   "execution_count": null,
   "metadata": {},
   "outputs": [],
   "source": [
    "# sns.boxplot(x=df['up_counter'])\n",
    "# plt.show()"
   ]
  },
  {
   "cell_type": "code",
   "execution_count": null,
   "metadata": {},
   "outputs": [],
   "source": []
  },
  {
   "cell_type": "markdown",
   "metadata": {},
   "source": [
    "<br/>"
   ]
  },
  {
   "cell_type": "markdown",
   "metadata": {},
   "source": [
    "<br/>"
   ]
  },
  {
   "cell_type": "markdown",
   "metadata": {},
   "source": [
    "# Classification\n",
    "\n",
    "Predict if the vehicle fuel is **\"gasoline\"** or **\"diesel\"**."
   ]
  },
  {
   "cell_type": "markdown",
   "metadata": {},
   "source": [
    "Label encode `engine_type` to use as label."
   ]
  },
  {
   "cell_type": "code",
   "execution_count": 109,
   "metadata": {},
   "outputs": [],
   "source": [
    "df['engine_type'] = df['engine_type'].apply(lambda x: 1 if x=='gasoline' else 0)"
   ]
  },
  {
   "cell_type": "markdown",
   "metadata": {},
   "source": [
    "## `OneHotEncoder()` on categorical columns, `StandardScaler( )` on numerical data"
   ]
  },
  {
   "cell_type": "code",
   "execution_count": 113,
   "metadata": {},
   "outputs": [],
   "source": [
    "# Columns with categorical data\n",
    "cat_cols = ['manufacturer_name', 'model_name', 'transmission', 'color', 'year_produced', \n",
    "               'body_type', 'has_warranty', 'state', 'drivetrain', 'location_region']\n",
    "\n",
    "# Columns with numerical data\n",
    "num_cols = ['odometer_value', 'engine_capacity', 'price_usd', 'number_of_photos', 'up_counter', 'duration_listed']\n",
    "\n",
    "transform_cols = make_column_transformer(\n",
    "    (OneHotEncoder(handle_unknown='ignore', sparse=False), cat_cols),  # OneHotEncoder() on categorical data\n",
    "    (StandardScaler(), num_cols),                                      # StandardScaler() on numerical data\n",
    "    remainder='passthrough'                                            # Allow remainder columns to pass through \n",
    ")"
   ]
  },
  {
   "cell_type": "markdown",
   "metadata": {},
   "source": [
    "## Set X and y and split into test/train\n",
    "\n",
    "Use all the features.\n",
    "\n",
    "Label: `engine_type`"
   ]
  },
  {
   "cell_type": "code",
   "execution_count": 114,
   "metadata": {},
   "outputs": [
    {
     "data": {
      "text/plain": [
       "((30816, 28), (30816,))"
      ]
     },
     "execution_count": 114,
     "metadata": {},
     "output_type": "execute_result"
    }
   ],
   "source": [
    "X = df.drop('engine_type', axis=1)\n",
    "y = df['engine_type']\n",
    "\n",
    "X_train, X_test, y_train, y_test = train_test_split(X, y, test_size=0.2, random_state=42, stratify=y)\n",
    "\n",
    "X_train.shape, y_train.shape"
   ]
  },
  {
   "cell_type": "markdown",
   "metadata": {},
   "source": [
    "## Function for Stratified k-Fold Cross Validation"
   ]
  },
  {
   "cell_type": "code",
   "execution_count": 115,
   "metadata": {},
   "outputs": [],
   "source": [
    "def strat_kfold(X, y, clf):\n",
    "    skf = StratifiedKFold(n_splits=5, shuffle=True, random_state=42)\n",
    "    \n",
    "    train_scores = []\n",
    "    test_scores = []\n",
    "\n",
    "    for train_idx, test_idx in skf.split(X, y):\n",
    "        X_train, y_train = X.iloc[train_idx], y.iloc[train_idx]\n",
    "        X_test, y_test = X.iloc[test_idx], y.iloc[test_idx]\n",
    "\n",
    "        pipe = make_pipeline(transform_cols, clf)\n",
    "\n",
    "        pipe.fit(X_train, y_train)\n",
    "\n",
    "        train_scores.append(pipe.score(X_train, y_train))\n",
    "        test_scores.append(pipe.score(X_test, y_test))\n",
    "\n",
    "    max_test_score = round(max(test_scores)*100, 2)\n",
    "    \n",
    "    average_train_score = round(np.mean(train_scores)*100, 2)\n",
    "    average_test_score = round(np.mean(test_scores)*100, 2)\n",
    "\n",
    "    print(f'Average training accuracy: {average_train_score}%',\n",
    "      f'\\nAverage testing accuracy: {average_test_score}%')\n",
    "    \n",
    "    print(f'\\nHighest testing accuracy: {max_test_score}%')\n",
    "    \n",
    "    return average_train_score, average_test_score"
   ]
  },
  {
   "cell_type": "markdown",
   "metadata": {},
   "source": [
    "<br/>"
   ]
  },
  {
   "cell_type": "markdown",
   "metadata": {},
   "source": [
    "# Logistic Regression"
   ]
  },
  {
   "cell_type": "markdown",
   "metadata": {},
   "source": [
    "### Using `X_train` and `y_train` on default values"
   ]
  },
  {
   "cell_type": "code",
   "execution_count": 116,
   "metadata": {},
   "outputs": [
    {
     "name": "stdout",
     "output_type": "stream",
     "text": [
      "Training accuracy: 83.72% \n",
      "Testing accuracy: 82.09%\n"
     ]
    }
   ],
   "source": [
    "# Logistic regression pipeline\n",
    "logreg_pipe = make_pipeline(transform_cols, LogisticRegression(max_iter=2000))\n",
    "\n",
    "logreg_pipe.fit(X_train, y_train)\n",
    "\n",
    "training_score = round(logreg_pipe.score(X_train, y_train)*100, 2)\n",
    "testing_score = round(logreg_pipe.score(X_test, y_test)*100, 2)\n",
    "\n",
    "print(f'Training accuracy: {training_score}%',\n",
    "      f'\\nTesting accuracy: {testing_score}%')"
   ]
  },
  {
   "cell_type": "markdown",
   "metadata": {},
   "source": [
    "### Hyperparameter tuning"
   ]
  },
  {
   "cell_type": "markdown",
   "metadata": {},
   "source": [
    "Dictionary of parameters to try."
   ]
  },
  {
   "cell_type": "code",
   "execution_count": 19,
   "metadata": {},
   "outputs": [],
   "source": [
    "# logreg_paramgrid = [\n",
    "#     {'logreg__C': [100, 10, 1, 0.1, 0.01],\n",
    "#      'logreg__solver': ['lbfgs', 'sag', 'saga']}\n",
    "# ]"
   ]
  },
  {
   "cell_type": "markdown",
   "metadata": {},
   "source": [
    "Search for the best parameters for `LogisticRegression()` using `RandomizedSearchCV()`"
   ]
  },
  {
   "cell_type": "code",
   "execution_count": 20,
   "metadata": {
    "scrolled": true
   },
   "outputs": [
    {
     "name": "stderr",
     "output_type": "stream",
     "text": [
      "c:\\users\\johng\\appdata\\local\\programs\\python\\python37\\lib\\site-packages\\sklearn\\linear_model\\_sag.py:330: ConvergenceWarning: The max_iter was reached which means the coef_ did not converge\n",
      "  \"the coef_ did not converge\", ConvergenceWarning)\n",
      "c:\\users\\johng\\appdata\\local\\programs\\python\\python37\\lib\\site-packages\\sklearn\\linear_model\\_sag.py:330: ConvergenceWarning: The max_iter was reached which means the coef_ did not converge\n",
      "  \"the coef_ did not converge\", ConvergenceWarning)\n",
      "c:\\users\\johng\\appdata\\local\\programs\\python\\python37\\lib\\site-packages\\sklearn\\linear_model\\_sag.py:330: ConvergenceWarning: The max_iter was reached which means the coef_ did not converge\n",
      "  \"the coef_ did not converge\", ConvergenceWarning)\n"
     ]
    },
    {
     "data": {
      "text/plain": [
       "0.8240103828682673"
      ]
     },
     "execution_count": 20,
     "metadata": {},
     "output_type": "execute_result"
    }
   ],
   "source": [
    "# logreg_pipe = Pipeline(steps=[('transform', transform_cols),\n",
    "#                               ('logreg', LogisticRegression(max_iter=3000))])\n",
    "\n",
    "# best_logreg = RandomizedSearchCV(logreg_pipe, logreg_paramgrid, n_iter=8, cv=5)\n",
    "\n",
    "# best_logreg.fit(X_train, y_train)\n",
    "\n",
    "# best_logreg.best_score_"
   ]
  },
  {
   "cell_type": "code",
   "execution_count": 21,
   "metadata": {},
   "outputs": [
    {
     "data": {
      "text/plain": [
       "0.8317432548156649"
      ]
     },
     "execution_count": 21,
     "metadata": {},
     "output_type": "execute_result"
    }
   ],
   "source": [
    "# best_logreg.score(X_test, y_test)"
   ]
  },
  {
   "cell_type": "code",
   "execution_count": 22,
   "metadata": {},
   "outputs": [
    {
     "data": {
      "text/plain": [
       "{'logreg__solver': 'lbfgs', 'logreg__C': 10}"
      ]
     },
     "execution_count": 22,
     "metadata": {},
     "output_type": "execute_result"
    }
   ],
   "source": [
    "# best_logreg.best_params_"
   ]
  },
  {
   "cell_type": "markdown",
   "metadata": {},
   "source": [
    "**Note:** Above cells are commented out because they take hours to run.\n",
    "\n",
    "When we ran the cells and searched for the best hyperparameters, the results were:\n",
    "- Best parameters: `C = 10` and `solver = \"lbfgs\"`\n",
    "- Best accuracy on training set: 0.83174\n",
    "- Accuracy on test set: 0.82010"
   ]
  },
  {
   "cell_type": "markdown",
   "metadata": {},
   "source": [
    "### Stratified k-Fold Cross Validation, k=5\n",
    "\n",
    "Using best values from hyperparameter optimization."
   ]
  },
  {
   "cell_type": "code",
   "execution_count": 118,
   "metadata": {
    "scrolled": false
   },
   "outputs": [
    {
     "name": "stdout",
     "output_type": "stream",
     "text": [
      "Average training accuracy: 83.9% \n",
      "Average testing accuracy: 82.97%\n",
      "\n",
      "Highest testing accuracy: 83.31%\n"
     ]
    }
   ],
   "source": [
    "logreg_avg_train, logreg_avg_test = strat_kfold(X, y, LogisticRegression(C=10, max_iter=4000))"
   ]
  },
  {
   "cell_type": "markdown",
   "metadata": {},
   "source": [
    "<br/>"
   ]
  },
  {
   "cell_type": "markdown",
   "metadata": {},
   "source": [
    "# Random Forest"
   ]
  },
  {
   "cell_type": "markdown",
   "metadata": {},
   "source": [
    "### Using `X_train` and `y_train` on default values"
   ]
  },
  {
   "cell_type": "code",
   "execution_count": 25,
   "metadata": {},
   "outputs": [
    {
     "name": "stdout",
     "output_type": "stream",
     "text": [
      "Training accuracy: 100.0% \n",
      "Testing Accuracy: 87.94%\n"
     ]
    }
   ],
   "source": [
    "# Random forest pipeline\n",
    "rf_pipe = make_pipeline(transform_cols, RandomForestClassifier())\n",
    "\n",
    "rf_pipe.fit(X_train, y_train)\n",
    "\n",
    "training_score = round(rf_pipe.score(X_train, y_train)*100, 2)\n",
    "testing_score = round(rf_pipe.score(X_test, y_test)*100, 2)\n",
    "\n",
    "print(f'Training accuracy: {training_score}%',\n",
    "      f'\\nTesting accuracy: {testing_score}%')"
   ]
  },
  {
   "cell_type": "markdown",
   "metadata": {},
   "source": [
    "### Hyperparameter Tuning"
   ]
  },
  {
   "cell_type": "markdown",
   "metadata": {},
   "source": [
    "Dictionary of parameters to try."
   ]
  },
  {
   "cell_type": "code",
   "execution_count": null,
   "metadata": {},
   "outputs": [],
   "source": [
    "rf_paramgrid = [\n",
    "    {'randfor__n_estimators': list(np.arange(100,501,20)),\n",
    "     'randfor__max_depth': [10, 20, 30, None],\n",
    "     'randfor__min_samples_split': [2, 4, 6],\n",
    "     'randfor__min_samples_leaf': [1, 2, 4]}\n",
    "]"
   ]
  },
  {
   "cell_type": "markdown",
   "metadata": {},
   "source": [
    "Search for the best parameters for `RandomForestClassifier()` using `RandomizedSearchCV()`"
   ]
  },
  {
   "cell_type": "code",
   "execution_count": 27,
   "metadata": {},
   "outputs": [
    {
     "data": {
      "text/plain": [
       "0.8807268007787151"
      ]
     },
     "execution_count": 27,
     "metadata": {},
     "output_type": "execute_result"
    }
   ],
   "source": [
    "# rf_pipe = Pipeline(steps=[('transform', transform_cols),\n",
    "#                               ('randfor', RandomForestClassifier())])\n",
    "# best_rf = RandomizedSearchCV(rf_pipe, rf_paramgrid, cv=5, n_iter=30)\n",
    "\n",
    "# best_rf.fit(X_train, y_train)\n",
    "\n",
    "# best_rf.best_score_"
   ]
  },
  {
   "cell_type": "code",
   "execution_count": 28,
   "metadata": {},
   "outputs": [
    {
     "data": {
      "text/plain": [
       "0.881944324964571"
      ]
     },
     "execution_count": 28,
     "metadata": {},
     "output_type": "execute_result"
    }
   ],
   "source": [
    "# best_rf.score(X_test, y_test)"
   ]
  },
  {
   "cell_type": "code",
   "execution_count": 29,
   "metadata": {},
   "outputs": [
    {
     "data": {
      "text/plain": [
       "{'randfor__n_estimators': 480,\n",
       " 'randfor__min_samples_split': 2,\n",
       " 'randfor__min_samples_leaf': 1,\n",
       " 'randfor__max_depth': None}"
      ]
     },
     "execution_count": 29,
     "metadata": {},
     "output_type": "execute_result"
    }
   ],
   "source": [
    "# best_rf.best_params_"
   ]
  },
  {
   "cell_type": "markdown",
   "metadata": {},
   "source": [
    "**Note:** Above cells are commented out because they take hours to run.\n",
    "\n",
    "When we ran the cells and searched for the best hyperparameters, the results were:\n",
    "- Best parameters: `n_estimators = 480`, `min_samples_split = 2`, `min_samples_leaf = 1`, and `max_depth = None`\n",
    "- Best accuracy on training set: 0.88194\n",
    "- Accuracy on test set: 0.88072"
   ]
  },
  {
   "cell_type": "markdown",
   "metadata": {},
   "source": [
    "### Stratified k-Fold Cross Validation, k=5\n",
    "\n",
    "Using the values acquired from hyperparameter tuning. Only `n_estimators` is different from the default values."
   ]
  },
  {
   "cell_type": "code",
   "execution_count": 202,
   "metadata": {},
   "outputs": [],
   "source": [
    "rf_avg_train, rf_avg_test = strat_kfold(X, y, RandomForestClassifier(n_estimators=480))"
   ]
  },
  {
   "cell_type": "markdown",
   "metadata": {},
   "source": [
    "<br/>"
   ]
  },
  {
   "cell_type": "markdown",
   "metadata": {},
   "source": [
    "## Multi-Layer Perceptron"
   ]
  },
  {
   "cell_type": "markdown",
   "metadata": {},
   "source": [
    "### Using `X_train` and `y_train` on default values"
   ]
  },
  {
   "cell_type": "code",
   "execution_count": 32,
   "metadata": {},
   "outputs": [
    {
     "name": "stdout",
     "output_type": "stream",
     "text": [
      "Training accuracy: 99.9% \n",
      "Testing Accuracy: 85.92%\n"
     ]
    }
   ],
   "source": [
    "# Multi-layer perceptron pipeline\n",
    "nn_pipe = make_pipeline(transform_cols, MLPClassifier(max_iter=1000))\n",
    "\n",
    "nn_pipe.fit(X_train, y_train)\n",
    "\n",
    "training_score = round(nn_pipe.score(X_train, y_train)*100, 2)\n",
    "testing_score = round(nn_pipe.score(X_test, y_test)*100, 2)\n",
    "\n",
    "print(f'Training accuracy: {training_score}%',\n",
    "      f'\\nTesting Accuracy: {testing_score}%')"
   ]
  },
  {
   "cell_type": "markdown",
   "metadata": {},
   "source": [
    "### Hyperparameter Tuning"
   ]
  },
  {
   "cell_type": "markdown",
   "metadata": {},
   "source": [
    "Dictionary of parameters to try."
   ]
  },
  {
   "cell_type": "code",
   "execution_count": 33,
   "metadata": {},
   "outputs": [],
   "source": [
    "nn_paramgrid = [\n",
    "    {'nn__hidden_layer_sizes': [(50, 50, 50), (25, 50, 25), (100,)],\n",
    "     'nn__activation': ['logistic', 'relu'],\n",
    "     'nn__learning_rate': ['constant', 'adaptive']}\n",
    "]"
   ]
  },
  {
   "cell_type": "markdown",
   "metadata": {},
   "source": [
    "Search for the best parameters for `MLPClassifier()` using `RandomizedSearchCV()`"
   ]
  },
  {
   "cell_type": "code",
   "execution_count": 34,
   "metadata": {},
   "outputs": [
    {
     "data": {
      "text/plain": [
       "0.8597014925373134"
      ]
     },
     "execution_count": 34,
     "metadata": {},
     "output_type": "execute_result"
    }
   ],
   "source": [
    "# nn_pipe = Pipeline(steps=[('transform', transform_cols),\n",
    "#                           ('nn', MLPClassifier(max_iter=2000))])\n",
    "# best_nn = RandomizedSearchCV(nn_pipe, nn_paramgrid, cv=5, n_iter=7)\n",
    "\n",
    "# best_nn.fit(X_train, y_train)\n",
    "\n",
    "# best_nn.best_score_"
   ]
  },
  {
   "cell_type": "code",
   "execution_count": 35,
   "metadata": {},
   "outputs": [
    {
     "data": {
      "text/plain": [
       "0.8610136869006315"
      ]
     },
     "execution_count": 35,
     "metadata": {},
     "output_type": "execute_result"
    }
   ],
   "source": [
    "# best_nn.score(X_test, y_test)"
   ]
  },
  {
   "cell_type": "code",
   "execution_count": 36,
   "metadata": {},
   "outputs": [
    {
     "data": {
      "text/plain": [
       "{'nn__learning_rate': 'constant',\n",
       " 'nn__hidden_layer_sizes': (100,),\n",
       " 'nn__activation': 'logistic'}"
      ]
     },
     "execution_count": 36,
     "metadata": {},
     "output_type": "execute_result"
    }
   ],
   "source": [
    "# best_nn.best_params_"
   ]
  },
  {
   "cell_type": "markdown",
   "metadata": {},
   "source": [
    "**Note:** Above cells are commented out because they take hours to run.\n",
    "\n",
    "When we ran the cells and searched for the best hyperparameters, the results were:\n",
    "- Best parameters: `learning_rate = 'constant'`, `hidden_layer_sizes = (100,)`, and `activation = 'logistic'`\n",
    "- Best accuracy on training set: 0.86101\n",
    "- Accuracy on test set: 0.85970"
   ]
  },
  {
   "cell_type": "markdown",
   "metadata": {},
   "source": [
    "### Stratified k-Fold Cross Validation, k=5\n",
    "\n",
    "Using the values from hyperparameter tuning. Only `activation` is different from the default values."
   ]
  },
  {
   "cell_type": "code",
   "execution_count": 38,
   "metadata": {},
   "outputs": [
    {
     "name": "stdout",
     "output_type": "stream",
     "text": [
      "Average training accuracy: 99.87% \n",
      "Average testing Accuracy: 85.86%\n",
      "\n",
      "Highest testing accuracy: 86.34%\n"
     ]
    }
   ],
   "source": [
    "nn_avg_train, nn_avg_test = strat_kfold(X, y, MLPClassifier(max_iter=1000))"
   ]
  },
  {
   "cell_type": "markdown",
   "metadata": {},
   "source": [
    "<br/>"
   ]
  },
  {
   "cell_type": "markdown",
   "metadata": {},
   "source": [
    "<br/>"
   ]
  },
  {
   "cell_type": "markdown",
   "metadata": {},
   "source": [
    "# Reduce Number of Dimensions\n",
    "\n",
    "Check if removing certain features has an effect on the accuracy of the model."
   ]
  },
  {
   "cell_type": "markdown",
   "metadata": {},
   "source": [
    "#### Correlation between categorical features and label"
   ]
  },
  {
   "cell_type": "code",
   "execution_count": 159,
   "metadata": {},
   "outputs": [],
   "source": [
    "numerical_labels = []\n",
    "\n",
    "numerical_labels.append([num_col for num_col in num_cols])\n",
    "\n",
    "numerical_labels = numerical_labels[0]\n",
    "\n",
    "numerical_labels.append('engine_type')"
   ]
  },
  {
   "cell_type": "code",
   "execution_count": 160,
   "metadata": {},
   "outputs": [
    {
     "data": {
      "text/html": [
       "<div>\n",
       "<style scoped>\n",
       "    .dataframe tbody tr th:only-of-type {\n",
       "        vertical-align: middle;\n",
       "    }\n",
       "\n",
       "    .dataframe tbody tr th {\n",
       "        vertical-align: top;\n",
       "    }\n",
       "\n",
       "    .dataframe thead th {\n",
       "        text-align: right;\n",
       "    }\n",
       "</style>\n",
       "<table border=\"1\" class=\"dataframe\">\n",
       "  <thead>\n",
       "    <tr style=\"text-align: right;\">\n",
       "      <th></th>\n",
       "      <th>odometer_value</th>\n",
       "      <th>engine_capacity</th>\n",
       "      <th>price_usd</th>\n",
       "      <th>number_of_photos</th>\n",
       "      <th>up_counter</th>\n",
       "      <th>duration_listed</th>\n",
       "      <th>engine_type</th>\n",
       "    </tr>\n",
       "  </thead>\n",
       "  <tbody>\n",
       "    <tr>\n",
       "      <th>odometer_value</th>\n",
       "      <td>1.000000</td>\n",
       "      <td>0.105704</td>\n",
       "      <td>-0.420965</td>\n",
       "      <td>-0.143564</td>\n",
       "      <td>-0.020976</td>\n",
       "      <td>-0.000508</td>\n",
       "      <td>-0.246308</td>\n",
       "    </tr>\n",
       "    <tr>\n",
       "      <th>engine_capacity</th>\n",
       "      <td>0.105704</td>\n",
       "      <td>1.000000</td>\n",
       "      <td>0.296597</td>\n",
       "      <td>0.106691</td>\n",
       "      <td>0.079152</td>\n",
       "      <td>0.080081</td>\n",
       "      <td>-0.089979</td>\n",
       "    </tr>\n",
       "    <tr>\n",
       "      <th>price_usd</th>\n",
       "      <td>-0.420965</td>\n",
       "      <td>0.296597</td>\n",
       "      <td>1.000000</td>\n",
       "      <td>0.316879</td>\n",
       "      <td>0.057470</td>\n",
       "      <td>0.033662</td>\n",
       "      <td>-0.085328</td>\n",
       "    </tr>\n",
       "    <tr>\n",
       "      <th>number_of_photos</th>\n",
       "      <td>-0.143564</td>\n",
       "      <td>0.106691</td>\n",
       "      <td>0.316879</td>\n",
       "      <td>1.000000</td>\n",
       "      <td>0.073880</td>\n",
       "      <td>-0.028181</td>\n",
       "      <td>-0.014785</td>\n",
       "    </tr>\n",
       "    <tr>\n",
       "      <th>up_counter</th>\n",
       "      <td>-0.020976</td>\n",
       "      <td>0.079152</td>\n",
       "      <td>0.057470</td>\n",
       "      <td>0.073880</td>\n",
       "      <td>1.000000</td>\n",
       "      <td>0.698128</td>\n",
       "      <td>-0.003492</td>\n",
       "    </tr>\n",
       "    <tr>\n",
       "      <th>duration_listed</th>\n",
       "      <td>-0.000508</td>\n",
       "      <td>0.080081</td>\n",
       "      <td>0.033662</td>\n",
       "      <td>-0.028181</td>\n",
       "      <td>0.698128</td>\n",
       "      <td>1.000000</td>\n",
       "      <td>-0.001456</td>\n",
       "    </tr>\n",
       "    <tr>\n",
       "      <th>engine_type</th>\n",
       "      <td>-0.246308</td>\n",
       "      <td>-0.089979</td>\n",
       "      <td>-0.085328</td>\n",
       "      <td>-0.014785</td>\n",
       "      <td>-0.003492</td>\n",
       "      <td>-0.001456</td>\n",
       "      <td>1.000000</td>\n",
       "    </tr>\n",
       "  </tbody>\n",
       "</table>\n",
       "</div>"
      ],
      "text/plain": [
       "                  odometer_value  engine_capacity  price_usd  \\\n",
       "odometer_value          1.000000         0.105704  -0.420965   \n",
       "engine_capacity         0.105704         1.000000   0.296597   \n",
       "price_usd              -0.420965         0.296597   1.000000   \n",
       "number_of_photos       -0.143564         0.106691   0.316879   \n",
       "up_counter             -0.020976         0.079152   0.057470   \n",
       "duration_listed        -0.000508         0.080081   0.033662   \n",
       "engine_type            -0.246308        -0.089979  -0.085328   \n",
       "\n",
       "                  number_of_photos  up_counter  duration_listed  engine_type  \n",
       "odometer_value           -0.143564   -0.020976        -0.000508    -0.246308  \n",
       "engine_capacity           0.106691    0.079152         0.080081    -0.089979  \n",
       "price_usd                 0.316879    0.057470         0.033662    -0.085328  \n",
       "number_of_photos          1.000000    0.073880        -0.028181    -0.014785  \n",
       "up_counter                0.073880    1.000000         0.698128    -0.003492  \n",
       "duration_listed          -0.028181    0.698128         1.000000    -0.001456  \n",
       "engine_type              -0.014785   -0.003492        -0.001456     1.000000  "
      ]
     },
     "execution_count": 160,
     "metadata": {},
     "output_type": "execute_result"
    }
   ],
   "source": [
    "num_df = df[numerical_labels]\n",
    "\n",
    "num_df.corr()"
   ]
  },
  {
   "cell_type": "code",
   "execution_count": 166,
   "metadata": {},
   "outputs": [],
   "source": [
    "# sns.set_theme(style=\"ticks\")\n",
    "# sns.pairplot(num_df)\n",
    "# plt.show()"
   ]
  },
  {
   "cell_type": "markdown",
   "metadata": {},
   "source": [
    "It seems like `up_counter`, `duration_listed`, and `number_of_photos` are the least useful out of the numerical columns."
   ]
  },
  {
   "cell_type": "code",
   "execution_count": 181,
   "metadata": {},
   "outputs": [],
   "source": [
    "dropped_df = df.drop(['up_counter', 'duration_listed', 'number_of_photos'], axis=1)"
   ]
  },
  {
   "cell_type": "markdown",
   "metadata": {},
   "source": [
    "#### Which columns have very uneven distributionm of data?"
   ]
  },
  {
   "cell_type": "code",
   "execution_count": 182,
   "metadata": {},
   "outputs": [
    {
     "data": {
      "text/plain": [
       "0    0.965032\n",
       "1    0.034968\n",
       "Name: engine_has_gas, dtype: float64"
      ]
     },
     "execution_count": 182,
     "metadata": {},
     "output_type": "execute_result"
    }
   ],
   "source": [
    "df['engine_has_gas'].value_counts(normalize=True)"
   ]
  },
  {
   "cell_type": "code",
   "execution_count": 183,
   "metadata": {},
   "outputs": [
    {
     "data": {
      "text/plain": [
       "0    0.988344\n",
       "1    0.011656\n",
       "Name: has_warranty, dtype: float64"
      ]
     },
     "execution_count": 183,
     "metadata": {},
     "output_type": "execute_result"
    }
   ],
   "source": [
    "df['has_warranty'].value_counts(normalize=True)"
   ]
  },
  {
   "cell_type": "code",
   "execution_count": 184,
   "metadata": {},
   "outputs": [
    {
     "data": {
      "text/plain": [
       "owned        0.979024\n",
       "new          0.011370\n",
       "emergency    0.009605\n",
       "Name: state, dtype: float64"
      ]
     },
     "execution_count": 184,
     "metadata": {},
     "output_type": "execute_result"
    }
   ],
   "source": [
    "df['state'].value_counts(normalize=True)"
   ]
  },
  {
   "cell_type": "code",
   "execution_count": 185,
   "metadata": {},
   "outputs": [],
   "source": [
    "dropped_df.drop(['engine_has_gas', 'has_warranty', 'state'], axis=1, inplace=True)"
   ]
  },
  {
   "cell_type": "markdown",
   "metadata": {},
   "source": [
    "#### Are `feature_0` through `feature_9` useful?"
   ]
  },
  {
   "cell_type": "code",
   "execution_count": 186,
   "metadata": {},
   "outputs": [],
   "source": [
    "feature_labels = []\n",
    "\n",
    "feature_labels.append([feat for feat in features])\n",
    "\n",
    "feature_labels = feature_labels[0]\n",
    "\n",
    "feature_labels.append('engine_type')"
   ]
  },
  {
   "cell_type": "code",
   "execution_count": 187,
   "metadata": {},
   "outputs": [
    {
     "data": {
      "text/html": [
       "<div>\n",
       "<style scoped>\n",
       "    .dataframe tbody tr th:only-of-type {\n",
       "        vertical-align: middle;\n",
       "    }\n",
       "\n",
       "    .dataframe tbody tr th {\n",
       "        vertical-align: top;\n",
       "    }\n",
       "\n",
       "    .dataframe thead th {\n",
       "        text-align: right;\n",
       "    }\n",
       "</style>\n",
       "<table border=\"1\" class=\"dataframe\">\n",
       "  <thead>\n",
       "    <tr style=\"text-align: right;\">\n",
       "      <th></th>\n",
       "      <th>feature_0</th>\n",
       "      <th>feature_1</th>\n",
       "      <th>feature_2</th>\n",
       "      <th>feature_3</th>\n",
       "      <th>feature_4</th>\n",
       "      <th>feature_5</th>\n",
       "      <th>feature_6</th>\n",
       "      <th>feature_7</th>\n",
       "      <th>feature_8</th>\n",
       "      <th>feature_9</th>\n",
       "      <th>engine_type</th>\n",
       "    </tr>\n",
       "  </thead>\n",
       "  <tbody>\n",
       "    <tr>\n",
       "      <th>feature_0</th>\n",
       "      <td>1.000000</td>\n",
       "      <td>-0.676798</td>\n",
       "      <td>-0.292311</td>\n",
       "      <td>-0.335857</td>\n",
       "      <td>-0.307133</td>\n",
       "      <td>-0.404713</td>\n",
       "      <td>-0.247149</td>\n",
       "      <td>-0.325653</td>\n",
       "      <td>-0.458724</td>\n",
       "      <td>-0.638830</td>\n",
       "      <td>0.003411</td>\n",
       "    </tr>\n",
       "    <tr>\n",
       "      <th>feature_1</th>\n",
       "      <td>-0.676798</td>\n",
       "      <td>1.000000</td>\n",
       "      <td>0.253481</td>\n",
       "      <td>0.325191</td>\n",
       "      <td>0.267868</td>\n",
       "      <td>0.399262</td>\n",
       "      <td>0.242601</td>\n",
       "      <td>0.316956</td>\n",
       "      <td>0.454167</td>\n",
       "      <td>0.396485</td>\n",
       "      <td>-0.010956</td>\n",
       "    </tr>\n",
       "    <tr>\n",
       "      <th>feature_2</th>\n",
       "      <td>-0.292311</td>\n",
       "      <td>0.253481</td>\n",
       "      <td>1.000000</td>\n",
       "      <td>0.437280</td>\n",
       "      <td>0.484707</td>\n",
       "      <td>0.422810</td>\n",
       "      <td>0.419088</td>\n",
       "      <td>0.387942</td>\n",
       "      <td>0.412233</td>\n",
       "      <td>0.373796</td>\n",
       "      <td>-0.026250</td>\n",
       "    </tr>\n",
       "    <tr>\n",
       "      <th>feature_3</th>\n",
       "      <td>-0.335857</td>\n",
       "      <td>0.325191</td>\n",
       "      <td>0.437280</td>\n",
       "      <td>1.000000</td>\n",
       "      <td>0.399056</td>\n",
       "      <td>0.496204</td>\n",
       "      <td>0.502680</td>\n",
       "      <td>0.522599</td>\n",
       "      <td>0.508863</td>\n",
       "      <td>0.378288</td>\n",
       "      <td>-0.043069</td>\n",
       "    </tr>\n",
       "    <tr>\n",
       "      <th>feature_4</th>\n",
       "      <td>-0.307133</td>\n",
       "      <td>0.267868</td>\n",
       "      <td>0.484707</td>\n",
       "      <td>0.399056</td>\n",
       "      <td>1.000000</td>\n",
       "      <td>0.487650</td>\n",
       "      <td>0.405533</td>\n",
       "      <td>0.372276</td>\n",
       "      <td>0.405364</td>\n",
       "      <td>0.395500</td>\n",
       "      <td>-0.000584</td>\n",
       "    </tr>\n",
       "    <tr>\n",
       "      <th>feature_5</th>\n",
       "      <td>-0.404713</td>\n",
       "      <td>0.399262</td>\n",
       "      <td>0.422810</td>\n",
       "      <td>0.496204</td>\n",
       "      <td>0.487650</td>\n",
       "      <td>1.000000</td>\n",
       "      <td>0.392317</td>\n",
       "      <td>0.451201</td>\n",
       "      <td>0.534566</td>\n",
       "      <td>0.409256</td>\n",
       "      <td>0.063866</td>\n",
       "    </tr>\n",
       "    <tr>\n",
       "      <th>feature_6</th>\n",
       "      <td>-0.247149</td>\n",
       "      <td>0.242601</td>\n",
       "      <td>0.419088</td>\n",
       "      <td>0.502680</td>\n",
       "      <td>0.405533</td>\n",
       "      <td>0.392317</td>\n",
       "      <td>1.000000</td>\n",
       "      <td>0.607714</td>\n",
       "      <td>0.445424</td>\n",
       "      <td>0.312557</td>\n",
       "      <td>-0.105107</td>\n",
       "    </tr>\n",
       "    <tr>\n",
       "      <th>feature_7</th>\n",
       "      <td>-0.325653</td>\n",
       "      <td>0.316956</td>\n",
       "      <td>0.387942</td>\n",
       "      <td>0.522599</td>\n",
       "      <td>0.372276</td>\n",
       "      <td>0.451201</td>\n",
       "      <td>0.607714</td>\n",
       "      <td>1.000000</td>\n",
       "      <td>0.514275</td>\n",
       "      <td>0.351252</td>\n",
       "      <td>-0.033994</td>\n",
       "    </tr>\n",
       "    <tr>\n",
       "      <th>feature_8</th>\n",
       "      <td>-0.458724</td>\n",
       "      <td>0.454167</td>\n",
       "      <td>0.412233</td>\n",
       "      <td>0.508863</td>\n",
       "      <td>0.405364</td>\n",
       "      <td>0.534566</td>\n",
       "      <td>0.445424</td>\n",
       "      <td>0.514275</td>\n",
       "      <td>1.000000</td>\n",
       "      <td>0.447757</td>\n",
       "      <td>-0.051079</td>\n",
       "    </tr>\n",
       "    <tr>\n",
       "      <th>feature_9</th>\n",
       "      <td>-0.638830</td>\n",
       "      <td>0.396485</td>\n",
       "      <td>0.373796</td>\n",
       "      <td>0.378288</td>\n",
       "      <td>0.395500</td>\n",
       "      <td>0.409256</td>\n",
       "      <td>0.312557</td>\n",
       "      <td>0.351252</td>\n",
       "      <td>0.447757</td>\n",
       "      <td>1.000000</td>\n",
       "      <td>0.012950</td>\n",
       "    </tr>\n",
       "    <tr>\n",
       "      <th>engine_type</th>\n",
       "      <td>0.003411</td>\n",
       "      <td>-0.010956</td>\n",
       "      <td>-0.026250</td>\n",
       "      <td>-0.043069</td>\n",
       "      <td>-0.000584</td>\n",
       "      <td>0.063866</td>\n",
       "      <td>-0.105107</td>\n",
       "      <td>-0.033994</td>\n",
       "      <td>-0.051079</td>\n",
       "      <td>0.012950</td>\n",
       "      <td>1.000000</td>\n",
       "    </tr>\n",
       "  </tbody>\n",
       "</table>\n",
       "</div>"
      ],
      "text/plain": [
       "             feature_0  feature_1  feature_2  feature_3  feature_4  feature_5  \\\n",
       "feature_0     1.000000  -0.676798  -0.292311  -0.335857  -0.307133  -0.404713   \n",
       "feature_1    -0.676798   1.000000   0.253481   0.325191   0.267868   0.399262   \n",
       "feature_2    -0.292311   0.253481   1.000000   0.437280   0.484707   0.422810   \n",
       "feature_3    -0.335857   0.325191   0.437280   1.000000   0.399056   0.496204   \n",
       "feature_4    -0.307133   0.267868   0.484707   0.399056   1.000000   0.487650   \n",
       "feature_5    -0.404713   0.399262   0.422810   0.496204   0.487650   1.000000   \n",
       "feature_6    -0.247149   0.242601   0.419088   0.502680   0.405533   0.392317   \n",
       "feature_7    -0.325653   0.316956   0.387942   0.522599   0.372276   0.451201   \n",
       "feature_8    -0.458724   0.454167   0.412233   0.508863   0.405364   0.534566   \n",
       "feature_9    -0.638830   0.396485   0.373796   0.378288   0.395500   0.409256   \n",
       "engine_type   0.003411  -0.010956  -0.026250  -0.043069  -0.000584   0.063866   \n",
       "\n",
       "             feature_6  feature_7  feature_8  feature_9  engine_type  \n",
       "feature_0    -0.247149  -0.325653  -0.458724  -0.638830     0.003411  \n",
       "feature_1     0.242601   0.316956   0.454167   0.396485    -0.010956  \n",
       "feature_2     0.419088   0.387942   0.412233   0.373796    -0.026250  \n",
       "feature_3     0.502680   0.522599   0.508863   0.378288    -0.043069  \n",
       "feature_4     0.405533   0.372276   0.405364   0.395500    -0.000584  \n",
       "feature_5     0.392317   0.451201   0.534566   0.409256     0.063866  \n",
       "feature_6     1.000000   0.607714   0.445424   0.312557    -0.105107  \n",
       "feature_7     0.607714   1.000000   0.514275   0.351252    -0.033994  \n",
       "feature_8     0.445424   0.514275   1.000000   0.447757    -0.051079  \n",
       "feature_9     0.312557   0.351252   0.447757   1.000000     0.012950  \n",
       "engine_type  -0.105107  -0.033994  -0.051079   0.012950     1.000000  "
      ]
     },
     "execution_count": 187,
     "metadata": {},
     "output_type": "execute_result"
    }
   ],
   "source": [
    "feat_df = df[feature_labels]\n",
    "\n",
    "feat_df.corr()"
   ]
  },
  {
   "cell_type": "markdown",
   "metadata": {},
   "source": [
    "It seems like `feature_6` is the only column with a correlation larger than 0.1."
   ]
  },
  {
   "cell_type": "code",
   "execution_count": 188,
   "metadata": {},
   "outputs": [],
   "source": [
    "dropped_df.drop(['feature_0', 'feature_1', 'feature_2', 'feature_3', 'feature_4', \n",
    "                 'feature_5', 'feature_7', 'feature_8', 'feature_9'], axis=1, inplace=True)"
   ]
  },
  {
   "cell_type": "code",
   "execution_count": 200,
   "metadata": {},
   "outputs": [
    {
     "data": {
      "text/html": [
       "<div>\n",
       "<style scoped>\n",
       "    .dataframe tbody tr th:only-of-type {\n",
       "        vertical-align: middle;\n",
       "    }\n",
       "\n",
       "    .dataframe tbody tr th {\n",
       "        vertical-align: top;\n",
       "    }\n",
       "\n",
       "    .dataframe thead th {\n",
       "        text-align: right;\n",
       "    }\n",
       "</style>\n",
       "<table border=\"1\" class=\"dataframe\">\n",
       "  <thead>\n",
       "    <tr style=\"text-align: right;\">\n",
       "      <th></th>\n",
       "      <th>manufacturer_name</th>\n",
       "      <th>model_name</th>\n",
       "      <th>transmission</th>\n",
       "      <th>color</th>\n",
       "      <th>odometer_value</th>\n",
       "      <th>year_produced</th>\n",
       "      <th>engine_type</th>\n",
       "      <th>engine_capacity</th>\n",
       "      <th>body_type</th>\n",
       "      <th>drivetrain</th>\n",
       "      <th>price_usd</th>\n",
       "      <th>is_exchangeable</th>\n",
       "      <th>location_region</th>\n",
       "      <th>feature_6</th>\n",
       "    </tr>\n",
       "  </thead>\n",
       "  <tbody>\n",
       "    <tr>\n",
       "      <th>0</th>\n",
       "      <td>Subaru</td>\n",
       "      <td>Outback</td>\n",
       "      <td>automatic</td>\n",
       "      <td>silver</td>\n",
       "      <td>190000</td>\n",
       "      <td>2010</td>\n",
       "      <td>1</td>\n",
       "      <td>2.5</td>\n",
       "      <td>universal</td>\n",
       "      <td>all</td>\n",
       "      <td>10900.00</td>\n",
       "      <td>0</td>\n",
       "      <td>Минская обл.</td>\n",
       "      <td>0</td>\n",
       "    </tr>\n",
       "    <tr>\n",
       "      <th>1</th>\n",
       "      <td>Subaru</td>\n",
       "      <td>Outback</td>\n",
       "      <td>automatic</td>\n",
       "      <td>blue</td>\n",
       "      <td>290000</td>\n",
       "      <td>2002</td>\n",
       "      <td>1</td>\n",
       "      <td>3.0</td>\n",
       "      <td>universal</td>\n",
       "      <td>all</td>\n",
       "      <td>5000.00</td>\n",
       "      <td>1</td>\n",
       "      <td>Минская обл.</td>\n",
       "      <td>0</td>\n",
       "    </tr>\n",
       "    <tr>\n",
       "      <th>2</th>\n",
       "      <td>Subaru</td>\n",
       "      <td>Forester</td>\n",
       "      <td>automatic</td>\n",
       "      <td>red</td>\n",
       "      <td>402000</td>\n",
       "      <td>2001</td>\n",
       "      <td>1</td>\n",
       "      <td>2.5</td>\n",
       "      <td>suv</td>\n",
       "      <td>all</td>\n",
       "      <td>2800.00</td>\n",
       "      <td>1</td>\n",
       "      <td>Минская обл.</td>\n",
       "      <td>0</td>\n",
       "    </tr>\n",
       "    <tr>\n",
       "      <th>3</th>\n",
       "      <td>Subaru</td>\n",
       "      <td>Impreza</td>\n",
       "      <td>mechanical</td>\n",
       "      <td>blue</td>\n",
       "      <td>10000</td>\n",
       "      <td>1999</td>\n",
       "      <td>1</td>\n",
       "      <td>3.0</td>\n",
       "      <td>sedan</td>\n",
       "      <td>all</td>\n",
       "      <td>9999.00</td>\n",
       "      <td>1</td>\n",
       "      <td>Минская обл.</td>\n",
       "      <td>0</td>\n",
       "    </tr>\n",
       "    <tr>\n",
       "      <th>4</th>\n",
       "      <td>Subaru</td>\n",
       "      <td>Legacy</td>\n",
       "      <td>automatic</td>\n",
       "      <td>black</td>\n",
       "      <td>280000</td>\n",
       "      <td>2001</td>\n",
       "      <td>1</td>\n",
       "      <td>2.5</td>\n",
       "      <td>universal</td>\n",
       "      <td>all</td>\n",
       "      <td>2134.11</td>\n",
       "      <td>1</td>\n",
       "      <td>Гомельская обл.</td>\n",
       "      <td>0</td>\n",
       "    </tr>\n",
       "  </tbody>\n",
       "</table>\n",
       "</div>"
      ],
      "text/plain": [
       "  manufacturer_name model_name transmission   color  odometer_value  \\\n",
       "0            Subaru    Outback    automatic  silver          190000   \n",
       "1            Subaru    Outback    automatic    blue          290000   \n",
       "2            Subaru   Forester    automatic     red          402000   \n",
       "3            Subaru    Impreza   mechanical    blue           10000   \n",
       "4            Subaru     Legacy    automatic   black          280000   \n",
       "\n",
       "   year_produced  engine_type  engine_capacity  body_type drivetrain  \\\n",
       "0           2010            1              2.5  universal        all   \n",
       "1           2002            1              3.0  universal        all   \n",
       "2           2001            1              2.5        suv        all   \n",
       "3           1999            1              3.0      sedan        all   \n",
       "4           2001            1              2.5  universal        all   \n",
       "\n",
       "   price_usd  is_exchangeable  location_region  feature_6  \n",
       "0   10900.00                0     Минская обл.          0  \n",
       "1    5000.00                1     Минская обл.          0  \n",
       "2    2800.00                1     Минская обл.          0  \n",
       "3    9999.00                1     Минская обл.          0  \n",
       "4    2134.11                1  Гомельская обл.          0  "
      ]
     },
     "execution_count": 200,
     "metadata": {},
     "output_type": "execute_result"
    }
   ],
   "source": [
    "dropped_df.head()"
   ]
  },
  {
   "cell_type": "markdown",
   "metadata": {},
   "source": [
    "# Second Attempt with Dropped Columns\n",
    "\n",
    "Split X and y into train and test"
   ]
  },
  {
   "cell_type": "code",
   "execution_count": 193,
   "metadata": {},
   "outputs": [
    {
     "data": {
      "text/plain": [
       "((30816, 13), (30816,))"
      ]
     },
     "execution_count": 193,
     "metadata": {},
     "output_type": "execute_result"
    }
   ],
   "source": [
    "X1 = dropped_df.drop('engine_type', axis=1)\n",
    "y1 = dropped_df['engine_type']\n",
    "\n",
    "X_train1, X_test1, y_train1, y_test1 = train_test_split(X1, y1, test_size=0.2, random_state=42, stratify=y)\n",
    "\n",
    "X_train1.shape, y_train1.shape"
   ]
  },
  {
   "cell_type": "markdown",
   "metadata": {},
   "source": [
    "`OneHotEncoder()` on categorical data, `StandardScaler()` on numeric data."
   ]
  },
  {
   "cell_type": "code",
   "execution_count": 194,
   "metadata": {},
   "outputs": [],
   "source": [
    "# Columns with categorical data\n",
    "cat_cols1 = ['manufacturer_name', 'model_name', 'transmission', 'color', 'year_produced', \n",
    "               'body_type', 'drivetrain', 'location_region']\n",
    "\n",
    "# Columns with numerical data\n",
    "num_cols1 = ['odometer_value', 'engine_capacity', 'price_usd']\n",
    "\n",
    "transform_cols1 = make_column_transformer(\n",
    "    (OneHotEncoder(handle_unknown='ignore', sparse=False), cat_cols1),  # OneHotEncoder() on categorical data\n",
    "    (StandardScaler(), num_cols1),                                      # StandardScaler() on numerical data\n",
    "    remainder='passthrough'                                             # Allow remainder columns to pass through \n",
    ")"
   ]
  },
  {
   "cell_type": "markdown",
   "metadata": {},
   "source": [
    "### Logistic Regression"
   ]
  },
  {
   "cell_type": "code",
   "execution_count": 196,
   "metadata": {},
   "outputs": [
    {
     "name": "stdout",
     "output_type": "stream",
     "text": [
      "Training accuracy: 82.84% \n",
      "Testing accuracy: 81.27%\n"
     ]
    }
   ],
   "source": [
    "# Logistic regression pipeline\n",
    "logreg_pipe1 = make_pipeline(transform_cols1, LogisticRegression(max_iter=500))\n",
    "\n",
    "logreg_pipe1.fit(X_train1, y_train1)\n",
    "\n",
    "training_score = round(logreg_pipe1.score(X_train1, y_train1)*100, 2)\n",
    "testing_score = round(logreg_pipe1.score(X_test1, y_test1)*100, 2)\n",
    "\n",
    "print(f'Training accuracy: {training_score}%',\n",
    "      f'\\nTesting accuracy: {testing_score}%')"
   ]
  },
  {
   "cell_type": "markdown",
   "metadata": {},
   "source": [
    "### Random Forest"
   ]
  },
  {
   "cell_type": "code",
   "execution_count": 198,
   "metadata": {},
   "outputs": [
    {
     "name": "stdout",
     "output_type": "stream",
     "text": [
      "Training accuracy: 100.0% \n",
      "Testing accuracy: 88.77%\n"
     ]
    }
   ],
   "source": [
    "# Random forest pipeline\n",
    "rf_pipe1 = make_pipeline(transform_cols1, RandomForestClassifier())\n",
    "\n",
    "rf_pipe1.fit(X_train1, y_train1)\n",
    "\n",
    "training_score = round(rf_pipe1.score(X_train1, y_train1)*100, 2)\n",
    "testing_score = round(rf_pipe1.score(X_test1, y_test1)*100, 2)\n",
    "\n",
    "print(f'Training accuracy: {training_score}%',\n",
    "      f'\\nTesting accuracy: {testing_score}%')"
   ]
  },
  {
   "cell_type": "markdown",
   "metadata": {},
   "source": [
    "### Multi-Layer Perceptron"
   ]
  },
  {
   "cell_type": "code",
   "execution_count": 201,
   "metadata": {},
   "outputs": [],
   "source": [
    "# Multi-layer perceptron pipeline\n",
    "nn_pipe1 = make_pipeline(transform_cols1, MLPClassifier(max_iter=1000))\n",
    "\n",
    "nn_pipe1.fit(X_train1, y_train1)\n",
    "\n",
    "training_score = round(nn_pipe1.score(X_train1, y_train1)*100, 2)\n",
    "testing_score = round(nn_pipe1.score(X_test1, y_test1)*100, 2)\n",
    "\n",
    "print(f'Training accuracy: {training_score}%',\n",
    "      f'\\nTesting Accuracy: {testing_score}%')"
   ]
  },
  {
   "cell_type": "code",
   "execution_count": null,
   "metadata": {},
   "outputs": [],
   "source": []
  },
  {
   "cell_type": "code",
   "execution_count": null,
   "metadata": {},
   "outputs": [],
   "source": []
  },
  {
   "cell_type": "code",
   "execution_count": null,
   "metadata": {},
   "outputs": [],
   "source": []
  }
 ],
 "metadata": {
  "kernelspec": {
   "display_name": "Python 3",
   "language": "python",
   "name": "python3"
  },
  "language_info": {
   "codemirror_mode": {
    "name": "ipython",
    "version": 3
   },
   "file_extension": ".py",
   "mimetype": "text/x-python",
   "name": "python",
   "nbconvert_exporter": "python",
   "pygments_lexer": "ipython3",
   "version": "3.7.0"
  }
 },
 "nbformat": 4,
 "nbformat_minor": 2
}
